{
 "cells": [
  {
   "cell_type": "markdown",
   "metadata": {},
   "source": [
    "# Analyze Refusal"
   ]
  },
  {
   "cell_type": "markdown",
   "metadata": {},
   "source": [
    "## Import dependencies"
   ]
  },
  {
   "cell_type": "code",
   "execution_count": null,
   "metadata": {},
   "outputs": [],
   "source": [
    "import pickle \n",
    "import yaml\n",
    "import pandas as pd\n",
    "from utils.analyzerefusalhelpers import run_pipeline"
   ]
  },
  {
   "cell_type": "markdown",
   "metadata": {},
   "source": [
    "## Read config"
   ]
  },
  {
   "cell_type": "code",
   "execution_count": null,
   "metadata": {},
   "outputs": [],
   "source": [
    "with open('./config.yaml', 'r') as f:\n",
    "    config = yaml.load(f, Loader=yaml.FullLoader)\n",
    "\n",
    "print(config)\n",
    "\n",
    "MODEL_NAMES = config['analysis']['model_names']\n",
    "METHODS = config['analysis']['methods']\n",
    "LABEL1 = config['analysis']['label1']\n",
    "LABEL2 = config['analysis']['label2']"
   ]
  },
  {
   "cell_type": "markdown",
   "metadata": {},
   "source": [
    "## Run pipeline"
   ]
  },
  {
   "cell_type": "code",
   "execution_count": null,
   "metadata": {},
   "outputs": [],
   "source": [
    "gdv_overview = []\n",
    "\n",
    "for model in MODEL_NAMES:\n",
    "    # load activatios\n",
    "    activations_path = f'./data/{model}_activations.pkl'\n",
    "    # run full pipeline including visualizations\n",
    "    run_pipeline(activations_path,  model, METHODS, LABEL1, LABEL2, gdv_overview)\n",
    "# overview of the separability throughout the model\n",
    "gdv_df = pd.DataFrame(gdv_overview).reset_index(drop=True)\n",
    "gdv_df.to_excel('GDV_Results.xlsx')"
   ]
  }
 ],
 "metadata": {
  "kernelspec": {
   "display_name": ".venv",
   "language": "python",
   "name": "python3"
  },
  "language_info": {
   "codemirror_mode": {
    "name": "ipython",
    "version": 3
   },
   "file_extension": ".py",
   "mimetype": "text/x-python",
   "name": "python",
   "nbconvert_exporter": "python",
   "pygments_lexer": "ipython3",
   "version": "3.12.3"
  }
 },
 "nbformat": 4,
 "nbformat_minor": 2
}
